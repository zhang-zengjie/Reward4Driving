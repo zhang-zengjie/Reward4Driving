{
 "cells": [
  {
   "attachments": {},
   "cell_type": "markdown",
   "metadata": {},
   "source": [
    "# Import Package"
   ]
  },
  {
   "cell_type": "code",
   "execution_count": 1,
   "metadata": {},
   "outputs": [
    {
     "name": "stderr",
     "output_type": "stream",
     "text": [
      "c:\\Users\\lynch\\anaconda3\\envs\\DQN_win\\lib\\site-packages\\tqdm\\auto.py:22: TqdmWarning: IProgress not found. Please update jupyter and ipywidgets. See https://ipywidgets.readthedocs.io/en/stable/user_install.html\n",
      "  from .autonotebook import tqdm as notebook_tqdm\n"
     ]
    }
   ],
   "source": [
    "import gym\n",
    "from gym import envs\n",
    "from gym import wrappers, logger\n",
    "import matplotlib.pyplot as plt\n",
    "from matplotlib.ticker import MaxNLocator\n",
    "from PIL import Image\n",
    "from tqdm import tqdm\n",
    "from pathlib import Path, PureWindowsPath\n",
    "import torch\n",
    "from collections import deque\n",
    "from ddpgagent import Agent3\n",
    "import numpy as np\n",
    "from utility import Config_DDPG\n",
    "\n",
    "################################## set device ##################################\n",
    "print(\"============================================================================================\")\n",
    "# set device to cpu or cuda\n",
    "if(torch.cuda.is_available()): \n",
    "    device = torch.device('cuda:0') \n",
    "    torch.cuda.empty_cache()\n",
    "    print(\"Device set to : \" + str(torch.cuda.get_device_name(device)))\n",
    "else:\n",
    "    device = torch.device('cpu')\n",
    "    print(\"Device set to : cpu\")\n",
    "print(\"============================================================================================\")\n"
   ]
  },
  {
   "attachments": {},
   "cell_type": "markdown",
   "metadata": {},
   "source": [
    "# Create the storage folder and generate log file \n",
    "## Folder route\n",
    "* The folder is saved under the route describes in the cell, (mainly 'document/model/``file_name``')\n",
    "* The ``file_name`` is the name of storag folder for current training.\n",
    "\n",
    "\n",
    "\n",
    "## Set reward function configuration car racing environment\n",
    "1. In the car racing environment, the [car_racing.py](gym/envs/box2d/car_racing.py) contains the reward function configuration where user can play around for designing the risk awareness that the agent targeted to learn.\n",
    "2. Can modify the configuration of parameters before training, the log files are collected under the same directory.\n",
    "   * The configuration file defines the training episodes, frequency of saving learned model in `*.pth` files for both actor and critic networks.\n"
   ]
  },
  {
   "cell_type": "code",
   "execution_count": 2,
   "metadata": {},
   "outputs": [
    {
     "name": "stdout",
     "output_type": "stream",
     "text": [
      "Now using device with cuda: cuda .\n",
      "\n",
      "Log File was created.\n"
     ]
    }
   ],
   "source": [
    "# create folder\n",
    "file_name = 'DDPG_reshape' # Folder name\n",
    "p_model = (Path()/ 'document'/'model'/file_name) # storage under model directory\n",
    "p_model.mkdir(parents=True, exist_ok=True) # create if no directory existed\n",
    "\n",
    "# CUDA\n",
    "if torch.cuda.is_available():\n",
    "    device = torch.device('cuda')\n",
    "else:\n",
    "    device = torch.device('cpu')\n",
    "print('Now using device with cuda:',device,'.\\n')  \n",
    "\n",
    "# Track\n",
    "# load_tracks_from=TRACK -- Load a specific map from a pkl file\n",
    "TRACK = 'track'\n",
    "\n",
    "# ENV\n",
    "# Gym make the environment\n",
    "frame = int(1) # state is frame - 1\n",
    "env = gym.make('CarRacing-v0', num_obstacles=100, show_info_panel=1,\n",
    "               num_tracks=1, num_lanes=1, discretize_actions='soft', \n",
    "               allow_outside=False, grayscale=1, frames_per_state=frame,load_tracks_from = TRACK)\n",
    "action_size = env.action_space.n\n",
    "observation_space = env.observation_space.shape\n",
    "\n",
    "# Parameters\n",
    "\"\"\" configuration of parameter setup, and setup training configuration. \"\"\"\n",
    "# modify under\n",
    "Episode_train = 5           # Total training episodes\n",
    "Model_Save_frequency = 2    # the frequency of saving model under directory\n",
    "Time_stamp = 500            # Exploring time stamps\n",
    "seed = 32\n",
    "cfg = Config_DDPG(Episode=int(Episode_train), max_ep_len=Time_stamp,random_seed=int(seed),freq_save_epi=int(Model_Save_frequency))\n",
    "setattr(cfg, 'state_size', observation_space) # create the state size parameter\n",
    "setattr(cfg, 'action_size', action_size)      # create the action size parameter\n",
    "\n",
    "# generate an agent\n",
    "agent = Agent3(cfg)\n",
    "\n",
    "if p_model.is_dir():\n",
    "    nb_name = 'log_par.txt'\n",
    "    with open(p_model.joinpath(nb_name), \"w\") as f:\n",
    "        f.write('-----------------------Var Config-----------------------\\n')\n",
    "        for key, value in vars(cfg).items(): \n",
    "            f.write('%s:%s\\n' % (key, value))\n",
    "        f.write('-----------------------Var Env-----------------------\\n')\n",
    "        for key, value in vars(env).items():\n",
    "            f.write('%s:%s\\n' % (key, value))\n",
    "        f.write('-----------------------Var File-----------------------\\n')\n",
    "        f.write('Directroy: %s,\\n'% p_model)\n",
    "        f.write('SOFT_NEG_REWARD = 0.1, \\nOut side: -100, \\n reward += (((left | right) & not_visited).sum()/ factor),\\n')\n",
    "        print('Log File was created.')\n",
    "        f.close()\n",
    "else:\n",
    "    print(\"Directory doesn\\'t exist.\")"
   ]
  },
  {
   "attachments": {},
   "cell_type": "markdown",
   "metadata": {},
   "source": [
    "# Training function for DDPG"
   ]
  },
  {
   "cell_type": "code",
   "execution_count": 3,
   "metadata": {},
   "outputs": [],
   "source": [
    "from utility import score_save\n",
    "\n",
    "def ddpg(n_episodes=5, max_t=cfg.max_ep_len,save_path=Path):\n",
    "    '''\n",
    "    # DDPG training function.    \n",
    "    ## input     \n",
    "    * `n_episodes = int(cfg.Episode)` # training episodes\n",
    "    * `max_t = cfg.max_ep_len` # time stamp\n",
    "    * `save_folder = p_model # assigned when create folder route`    \n",
    "    ## output\n",
    "    (scores,avg_scores), agent\n",
    "    '''\n",
    "    scores_deque = deque(maxlen=100) # take the last 100 scores and average\n",
    "    scores = []\n",
    "    avg_scores = []\n",
    "    max_score = -np.Inf\n",
    "    n_episodes = n_episodes\n",
    "    for i_episode in range(1, n_episodes+1):\n",
    "        state = env.reset()\n",
    "        agent.reset()\n",
    "        score = 0\n",
    "        for t in range(max_t):\n",
    "            action = agent.act(state)\n",
    "            next_state, reward, done, _ = env.step(action)\n",
    "            agent.step(state, action, reward, next_state, done)\n",
    "            state = next_state\n",
    "            score += reward\n",
    "            if done:\n",
    "                break \n",
    "        scores_deque.append(score)\n",
    "        scores.append(score)\n",
    "        print('\\rEpisode {}\\tAverage Score: {:.2f}\\tScore: {:.2f}'.format(i_episode, np.mean(scores_deque), score), end=\"\")\n",
    "        avg_scores.append(np.mean(scores_deque))\n",
    "        if i_episode % cfg.freq_save_epi == 0: # frequency of saving agent model file and scores. default=500\n",
    "            actor_name = f'DDPG_actor{i_episode}.pth'\n",
    "            critic_name = f'DDPG_critic{i_episode}.pth'\n",
    "            torch.save(agent.actor_local.state_dict(), (save_path/actor_name))\n",
    "            torch.save(agent.critic_local.state_dict(), (save_path/critic_name))\n",
    "            print('\\rEpisode {}\\tAverage Score: {:.2f}'.format(i_episode, np.mean(scores_deque)))   \n",
    "            file_name = f\"DDPG_soft_default_{i_episode}\"\n",
    "            print('\\n',save_path)\n",
    "            score_save(scores, averagescore=avg_scores, file_name=file_name, path=save_path, print_=False)\n",
    "    return scores,avg_scores, agent\n"
   ]
  },
  {
   "attachments": {},
   "cell_type": "markdown",
   "metadata": {},
   "source": [
    "## Start training\n",
    "\n",
    "The following cell start training for the agent.\n",
    "\n",
    "* Total training time are logged as `Run_log_training.txt` and will storage under the same directory.\n",
    "* The learned models are storaged as the frequency of storaging episodes as setted up above. (default is `every 2 episode save model once.`)\n",
    "* Plot for average scores and all scores are illustrated.\n",
    "  * The score plot shows the score of the end result of single episode.\n",
    "  * The average plot shows the averaging of last 100 time stamps' scoring. (in one episode)\n",
    "    > Since the agent can result in a lower score, for instance, by hitting on the obstacle after exploring for a while on the track. Collision does not represent the total actions what the agent already done.\n",
    "\n",
    "* The csv storages the score and average scores are under the same directory.\n",
    "\n",
    "\n",
    "  "
   ]
  },
  {
   "cell_type": "code",
   "execution_count": null,
   "metadata": {},
   "outputs": [],
   "source": [
    "import time\n",
    "# Training start\n",
    "start = time.time()\n",
    "scores,avg_scores, agent = ddpg(n_episodes=cfg.Episode, max_t= cfg.max_ep_len, save_path=p_model)\n",
    "end = time.time()\n",
    "# Training end\n",
    "hours, rem = divmod(end-start, 3600)\n",
    "minutes, seconds = divmod(rem, 60)\n",
    "print(\"Total training time: {:0>2}:{:0>2}:{:05.2f}\".format(int(hours),int(minutes),seconds))\n"
   ]
  },
  {
   "attachments": {},
   "cell_type": "markdown",
   "metadata": {},
   "source": [
    "# Plot training results"
   ]
  },
  {
   "cell_type": "code",
   "execution_count": 5,
   "metadata": {},
   "outputs": [
    {
     "data": {
      "image/png": "[encoded data removed]",
      "text/plain": [
       "<Figure size 640x480 with 1 Axes>"
      ]
     },
     "metadata": {},
     "output_type": "display_data"
    }
   ],
   "source": [
    "Episode = cfg.Episode\n",
    "image_name = f'DDPG_{Episode}.png'\n",
    "fig = plt.figure()\n",
    "ax = fig.add_subplot(111)\n",
    "plt.plot(np.arange(1, len(scores)+1), scores, label=\"Score of the episode\")\n",
    "plt.plot(np.arange(1, len(avg_scores)+1), avg_scores, label=\"Average score of the episode\")\n",
    "plt.legend()\n",
    "plt.ylabel('Score')\n",
    "plt.xlabel(f'Training Episode')\n",
    "ax.xaxis.set_major_locator(MaxNLocator(integer=True))\n",
    "# plt.savefig((p_model/image_name))\n",
    "plt.grid()\n",
    "plt.show()\n",
    "\n",
    "if p_model.is_dir():\n",
    "    nb_name = 'Run_log_training.txt'\n",
    "    with open(p_model.joinpath(nb_name), \"w\") as f:\n",
    "        f.write(\"Total training time: {:0>2}:{:0>2}:{:05.2f}\\n\".format(int(hours),int(minutes),seconds))\n",
    "        f.write('Toal epoch:%s\\n'%Episode)\n",
    "        f.write('Csv file name:%s\\n'%file_name)\n",
    "        f.close()"
   ]
  }
 ],
 "metadata": {
  "kernelspec": {
   "display_name": "DQN_win",
   "language": "python",
   "name": "python3"
  },
  "language_info": {
   "codemirror_mode": {
    "name": "ipython",
    "version": 3
   },
   "file_extension": ".py",
   "mimetype": "text/x-python",
   "name": "python",
   "nbconvert_exporter": "python",
   "pygments_lexer": "ipython3",
   "version": "3.8.15"
  },
  "orig_nbformat": 4
 },
 "nbformat": 4,
 "nbformat_minor": 2
}

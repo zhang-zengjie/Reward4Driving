{
 "cells": [
  {
   "cell_type": "markdown",
   "metadata": {},
   "source": [
    "# Import package"
   ]
  },
  {
   "cell_type": "code",
   "execution_count": 2,
   "metadata": {},
   "outputs": [],
   "source": [
    "from pathlib import Path, PureWindowsPath\n",
    "from matplotlib import pyplot as plt\n",
    "import numpy as np\n",
    "import pandas as pd\n",
    "import seaborn as sns\n",
    "import os\n",
    "import sys\n"
   ]
  },
  {
   "cell_type": "markdown",
   "metadata": {},
   "source": [
    "# Folder and route"
   ]
  },
  {
   "cell_type": "code",
   "execution_count": 13,
   "metadata": {},
   "outputs": [
    {
     "name": "stdout",
     "output_type": "stream",
     "text": [
      "Folder list in Experiment:[WindowsPath('document/Trail_Default'), WindowsPath('document/Trail_Reshape')]\n",
      "\n",
      "Trail_default:document\\Trail_Default\n",
      "\n",
      "Default:[WindowsPath('document/Trail_Default/Delete'), WindowsPath('document/Trail_Default/Test_Default_Nearness')]\n",
      " Reshape:[WindowsPath('document/Trail_Reshape/Raw_delete'), WindowsPath('document/Trail_Reshape/Test_Reshape_Nearness'), WindowsPath('document/Trail_Reshape/Test_Reshape_Nearness_II'), WindowsPath('document/Trail_Reshape/Test_Reshape_Nearness_III')]\n",
      "\n"
     ]
    }
   ],
   "source": [
    "folder_load = (Path()/ 'document')\n",
    "directory = os.walk(folder_load)\n",
    "folder_list = [x for x in folder_load.iterdir() if x.is_dir()]\n",
    "print(f\"Folder list in Experiment:{folder_list}\\n\")\n",
    "Trail_default = folder_list[0]\n",
    "Trail_reshape = folder_list[1]\n",
    "\n",
    "print(f\"Trail_default:{Trail_default}\\n\")\n",
    "Default = [x for x in Trail_default.iterdir() if x.is_dir()]\n",
    "Reshape = [x for x in Trail_reshape.iterdir() if x.is_dir()]\n",
    "print(f\"Default:{Default}\\n\",f\"Reshape:{Reshape}\\n\")\n",
    "\n"
   ]
  },
  {
   "cell_type": "markdown",
   "metadata": {},
   "source": [
    "# Reshape-PPO needs to merge "
   ]
  },
  {
   "cell_type": "code",
   "execution_count": 33,
   "metadata": {},
   "outputs": [],
   "source": [
    "Reshape[-1] # test_reshape_nearness_III\n",
    "\n",
    "df1 = pd.read_csv((Reshape[-1]/'score_PPO_reshape.csv'))\n",
    "df2 = pd.read_csv((Reshape[-1]/'score_PPO_reshapeII.csv'))\n",
    "\n",
    "df2.drop(index=0, inplace=True)\n",
    "PPO_score = pd.concat([df1, df2], axis=0).reset_index(drop=True)\n",
    "\n",
    "# Load ddpg and dqn data\n",
    "PPO_score.to_csv((Reshape[-1]/'score_PPO_reshape_10000.csv'))\n",
    "# DDPG_ac = pd.read_csv((Reshape[1]/'score_DDPG_reshape.csv'))"
   ]
  }
 ],
 "metadata": {
  "kernelspec": {
   "display_name": "DQN_win",
   "language": "python",
   "name": "python3"
  },
  "language_info": {
   "codemirror_mode": {
    "name": "ipython",
    "version": 3
   },
   "file_extension": ".py",
   "mimetype": "text/x-python",
   "name": "python",
   "nbconvert_exporter": "python",
   "pygments_lexer": "ipython3",
   "version": "3.8.15"
  },
  "orig_nbformat": 4
 },
 "nbformat": 4,
 "nbformat_minor": 2
}

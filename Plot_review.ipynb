{
 "cells": [
  {
   "cell_type": "markdown",
   "metadata": {},
   "source": [
    "# Import package"
   ]
  },
  {
   "cell_type": "code",
   "execution_count": 1,
   "metadata": {},
   "outputs": [],
   "source": [
    "from pathlib import Path, PureWindowsPath\n",
    "from matplotlib import pyplot as plt\n",
    "import numpy as np\n",
    "import pandas as pd\n",
    "import seaborn as sns\n",
    "import os\n",
    "import sys\n"
   ]
  },
  {
   "cell_type": "markdown",
   "metadata": {},
   "source": [
    "# Folder and route"
   ]
  },
  {
   "cell_type": "code",
   "execution_count": 3,
   "metadata": {},
   "outputs": [
    {
     "name": "stdout",
     "output_type": "stream",
     "text": [
      "Folder list in Experiment:[PosixPath('document/Trail_Default'), PosixPath('document/Trail_Reshape')]\n",
      "\n",
      "Default:[PosixPath('document/Trail_Default/Test_Default_Nearness')]\n",
      " Reshape:[PosixPath('document/Trail_Reshape/Raw_delete'), PosixPath('document/Trail_Reshape/Test_Reshape_Nearness_II'), PosixPath('document/Trail_Reshape/Test_Reshape_Nearness'), PosixPath('document/Trail_Reshape/Test_Reshape_NearnessIV'), PosixPath('document/Trail_Reshape/Test_Reshape_Nearness_III')]\n",
      "\n"
     ]
    }
   ],
   "source": [
    "folder_load = (Path()/ 'document')\n",
    "directory = os.walk(folder_load)\n",
    "folder_list = [x for x in folder_load.iterdir() if x.is_dir()]\n",
    "print(f\"Folder list in Experiment:{folder_list}\\n\")\n",
    "Trail_default = folder_list[0]\n",
    "Trail_reshape = folder_list[1]\n",
    "\n",
    "# print(f\"Trail_default:{Trail_default}\\n\")\n",
    "Default = [x for x in Trail_default.iterdir() if x.is_dir()]\n",
    "Reshape = [x for x in Trail_reshape.iterdir() if x.is_dir()]\n",
    "print(f\"Default:{Default}\\n\",f\"Reshape:{Reshape}\\n\")\n",
    "\n"
   ]
  },
  {
   "cell_type": "markdown",
   "metadata": {},
   "source": [
    "# Default data"
   ]
  },
  {
   "cell_type": "code",
   "execution_count": 32,
   "metadata": {},
   "outputs": [
    {
     "name": "stdout",
     "output_type": "stream",
     "text": [
      "DDPG_OTT_default:771\n",
      " PPO_OTT_default:721\n",
      " DQB_OTT_default:0\n",
      "\n"
     ]
    }
   ],
   "source": [
    "Default[0]\n",
    "\n",
    "DDPG_OTT_default = pd.read_csv(Default[0] / 'DDPG_default_count.csv')\n",
    "PPO_OTT_default = pd.read_csv(Default[0] / 'PPO_default_count.csv')\n",
    "DQB_OTT_default = pd.read_csv(Default[0] / 'DQN_default_count.csv')\n",
    "\n",
    "print(f\"DDPG_OTT_default:{DDPG_OTT_default['Bump_instance'].sum()}\\n\",f\"PPO_OTT_default:{PPO_OTT_default['Bump_instance'].sum()}\\n\",f\"DQB_OTT_default:{DQB_OTT_default['Bump_instance'].sum()}\\n\")\n",
    "\n",
    "\n"
   ]
  },
  {
   "cell_type": "markdown",
   "metadata": {},
   "source": [
    "# Reshape-PPO needs to merge "
   ]
  },
  {
   "cell_type": "code",
   "execution_count": 19,
   "metadata": {},
   "outputs": [],
   "source": [
    "Reshape[-1] # test_reshape_nearness_III\n",
    "\n",
    "# df1 = pd.read_csv((Reshape[-1]/'score_PPO_reshape.csv'))\n",
    "# df2 = pd.read_csv((Reshape[-1]/'score_PPO_reshapeII.csv'))\n",
    "\n",
    "# df2.drop(index=0, inplace=True)\n",
    "# PPO_score = pd.concat([df1, df2], axis=0).reset_index(drop=True)\n",
    "\n",
    "# Load ddpg and dqn data\n",
    "# PPO_score.to_csv((Reshape[-1]/'score_PPO_reshape_10000.csv'))\n",
    "DDPG_scores = pd.read_csv((Reshape[2]/'score_DDPG_reshape.csv'))\n",
    "PPO_scores = pd.read_csv((Reshape[-1]/'score_PPO_reshape_10000.csv'))\n",
    "\n",
    "df1 = pd.read_csv((Reshape[-1]/'PPO_reshape_count.csv'))\n",
    "df2 = pd.read_csv((Reshape[-1]/'PPO_reshape_countII.csv'))\n",
    "ppo_OTT = pd.concat([df1, df2], axis=0).reset_index(drop=True)\n",
    "ppo_OTT.to_csv((Reshape[-1]/'PPO_reshape_count_10000.csv'))"
   ]
  },
  {
   "cell_type": "code",
   "execution_count": 26,
   "metadata": {},
   "outputs": [],
   "source": [
    "ddpg_OTT = pd.read_csv((Reshape[2]/'DDPG_reshape_count.csv'))\n",
    "ppo_OTT = pd.read_csv((Reshape[-1]/'PPO_reshape_count_10000.csv'))\n",
    "PPO_OTT = ppo_OTT.drop(columns=['Unnamed: 0.1', 'Unnamed: 0'])\n",
    "dqn_OTT = pd.read_csv((Reshape[-1]/'DQN_reshape_count.csv'))\n"
   ]
  },
  {
   "cell_type": "markdown",
   "metadata": {},
   "source": [
    "# Out of track calculation"
   ]
  },
  {
   "cell_type": "code",
   "execution_count": 28,
   "metadata": {},
   "outputs": [
    {
     "name": "stdout",
     "output_type": "stream",
     "text": [
      "DDPG_outoftrack:769\n",
      " PPO_outoftrack:5\n",
      " DQN_outoftrack:0\n",
      "\n"
     ]
    }
   ],
   "source": [
    "ddpg_OTT['Bump_instance'].sum()\n",
    "ppo_OTT['Bump_instance'].sum()\n",
    "dqn_OTT['Bump_instance'].sum()\n",
    "print(f\"DDPG_outoftrack:{ddpg_OTT['Bump_instance'].sum()}\\n\", f\"PPO_outoftrack:{ppo_OTT['Bump_instance'].sum()}\\n\", f\"DQN_outoftrack:{dqn_OTT['Bump_instance'].sum()}\\n\")\n"
   ]
  }
 ],
 "metadata": {
  "kernelspec": {
   "display_name": "DQN_win",
   "language": "python",
   "name": "python3"
  },
  "language_info": {
   "codemirror_mode": {
    "name": "ipython",
    "version": 3
   },
   "file_extension": ".py",
   "mimetype": "text/x-python",
   "name": "python",
   "nbconvert_exporter": "python",
   "pygments_lexer": "ipython3",
   "version": "3.8.15"
  },
  "orig_nbformat": 4
 },
 "nbformat": 4,
 "nbformat_minor": 2
}

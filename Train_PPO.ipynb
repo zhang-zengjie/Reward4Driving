{
 "cells": [
  {
   "attachments": {},
   "cell_type": "markdown",
   "metadata": {},
   "source": [
    "# Import package"
   ]
  },
  {
   "cell_type": "code",
   "execution_count": 1,
   "metadata": {},
   "outputs": [
    {
     "name": "stderr",
     "output_type": "stream",
     "text": [
      "c:\\Users\\lynch\\anaconda3\\envs\\DQN_win\\lib\\site-packages\\tqdm\\auto.py:22: TqdmWarning: IProgress not found. Please update jupyter and ipywidgets. See https://ipywidgets.readthedocs.io/en/stable/user_install.html\n",
      "  from .autonotebook import tqdm as notebook_tqdm\n"
     ]
    },
    {
     "name": "stdout",
     "output_type": "stream",
     "text": [
      "============================================================================================\n",
      "Device set to : NVIDIA GeForce RTX 3070 Laptop GPU\n",
      "============================================================================================\n"
     ]
    }
   ],
   "source": [
    "import numpy as np\n",
    "import matplotlib.pyplot as plt\n",
    "from matplotlib.ticker import MaxNLocator\n",
    "from pathlib import Path\n",
    "import random\n",
    "import os\n",
    "import glob\n",
    "import time\n",
    "from datetime import datetime\n",
    "import torch\n",
    "import gym\n",
    "from utility import Config_PPO\n",
    "from ppoagent import PPO\n",
    "import time\n",
    "################################## set device ##################################\n",
    "print(\"============================================================================================\")\n",
    "# set device to cpu or cuda\n",
    "if(torch.cuda.is_available()): \n",
    "    device = torch.device('cuda:0') \n",
    "    torch.cuda.empty_cache()\n",
    "    print(\"Device set to : \" + str(torch.cuda.get_device_name(device)))\n",
    "else:\n",
    "    device = torch.device('cpu')\n",
    "    print(\"Device set to : cpu\")\n",
    "print(\"============================================================================================\")\n"
   ]
  },
  {
   "attachments": {},
   "cell_type": "markdown",
   "metadata": {},
   "source": [
    "# Create the storage folder and generate log file \n",
    "## Folder route\n",
    "* The folder is saved under the route describes in the cell, (mainly 'document/model/``file_name``')\n",
    "* The ``file_name`` is the name of storag folder for current training.\n",
    "\n",
    "\n",
    "\n",
    "## Set reward function configuration car racing environment\n",
    "1. In the car racing environment, the [car_racing.py](gym/envs/box2d/car_racing.py) contains the reward function configuration where user can play around for designing the risk awareness that the agent targeted to learn.\n",
    "   * Reward function name: `default_reward_callback`\n",
    "   * `OBSTACLE_VALUE = -600` -- default\n",
    "2. Can modify the configuration of parameters before training, the log files are collected under the same directory.\n",
    "   * The configuration file defines the training episodes, frequency of saving learned model in `*.pth` files for both actor and critic networks.\n"
   ]
  },
  {
   "cell_type": "code",
   "execution_count": 5,
   "metadata": {},
   "outputs": [
    {
     "name": "stdout",
     "output_type": "stream",
     "text": [
      "Now using device with cuda: cuda .\n",
      "\n",
      "Max training time steps: 3000\t \n",
      " State dimension: (96, 96)\t \n",
      " Action size: 5\t\n",
      "K-epocs:30\n",
      " max timesteps in one episode: 500 \n",
      " Expected episode: 12\n",
      "\n",
      "Log File was created.\n"
     ]
    }
   ],
   "source": [
    "# create folder\n",
    "file_name = 'PPO' # Folder name\n",
    "p_model = (Path()/ 'document'/'model'/file_name) # storage under model directory\n",
    "p_model.mkdir(parents=True, exist_ok=True) # create if no directory existed\n",
    "\n",
    "# CUDA\n",
    "if torch.cuda.is_available():\n",
    "    device = torch.device('cuda')\n",
    "else:\n",
    "    device = torch.device('cpu')\n",
    "print('Now using device with cuda:',device,'.\\n')  \n",
    "\n",
    "# Track\n",
    "# load_tracks_from=TRACK -- Load a specific map from a pkl file\n",
    "TRACK = 'track'\n",
    "\n",
    "# ENV\n",
    "# Gym make the environment\n",
    "frame = int(1) # state is frame - 1\n",
    "env = gym.make('CarRacing-v0', num_obstacles=100, show_info_panel=1,\n",
    "               num_tracks=1, num_lanes=1, discretize_actions='soft', \n",
    "               allow_outside=False, grayscale=1, frames_per_state=frame,load_tracks_from = TRACK)\n",
    "\n",
    "state_dim = env.observation_space.shape\n",
    "action_dim = env.action_space.n\n",
    "\n",
    "# Parameters\n",
    "\"\"\" configuration of parameter setup, and setup training configuration. \"\"\"\n",
    "Total_train = 3000         # Total training episodes\n",
    "Model_Save_frequency = 2    # the frequency of saving model under directory\n",
    "Time_stamp = 500            # Exploring time stamps\n",
    "cfg = Config_PPO(max_training_timesteps=int(Total_train),max_ep_len=Time_stamp,K_epochs=30, save_model_freq=Model_Save_frequency,eps_clip=0.2,gamma=0.95)\n",
    "setattr(cfg, 'state_dim', state_dim)\n",
    "setattr(cfg, 'action_dim', action_dim)\n",
    "\n",
    "print('Max training time steps: {}\\t \\n State dimension: {}\\t \\n Action size: {}\\t'.format(cfg.max_training_timesteps,cfg.state_dim,cfg.action_dim))\n",
    "print(\"K-epocs:{}\\n max timesteps in one episode: {} \\n Expected episode: {}\\n\".format(cfg.K_epochs,cfg.max_ep_len,(cfg.max_training_timesteps // cfg.max_ep_len)*2))\n",
    "\n",
    "agent = PPO(cfg)\n",
    "\n",
    "\n",
    "if p_model.is_dir():\n",
    "    nb_name = 'log_par.txt'\n",
    "    with open(p_model.joinpath(nb_name), \"w\") as f:\n",
    "        f.write('-----------------------Var Config-----------------------\\n')\n",
    "        for key, value in vars(cfg).items(): \n",
    "            f.write('%s:%s\\n' % (key, value))\n",
    "        f.write('-----------------------Var Env-----------------------\\n')\n",
    "        for key, value in vars(env).items():\n",
    "            f.write('%s:%s\\n' % (key, value))\n",
    "        f.write('-----------------------Var File-----------------------\\n')\n",
    "        f.write('Directroy: %s,\\n'% p_model)\n",
    "        f.write('SOFT_NEG_REWARD = 0.1, \\nOut side: -1, \\nreward += ((((left | right) & not_visited).sum()+0.4)/ factor),\\n max_time_out = 10.0,\\ncheck_outside == False\\n')\n",
    "        print('Log File was created.')\n",
    "        f.close()\n",
    "else:\n",
    "    print(\"Directory doesn\\'t exist.\")"
   ]
  },
  {
   "attachments": {},
   "cell_type": "markdown",
   "metadata": {},
   "source": [
    "# Training function for PPO"
   ]
  },
  {
   "cell_type": "code",
   "execution_count": 6,
   "metadata": {},
   "outputs": [],
   "source": [
    "from collections import deque\n",
    "from utility import score_save\n",
    "\n",
    "def PPO_train():\n",
    "        print_running_reward = 0\n",
    "        print_running_episodes = 0\n",
    "        time_step = 0\n",
    "        i_episode = 0\n",
    "        scores_deque = deque(maxlen=100)\n",
    "        scores = []\n",
    "        avg_scores = []\n",
    "        time_step = 0\n",
    "        avg_print_score = []\n",
    "        while time_step <= cfg.max_training_timesteps: # Max training time steps\n",
    "        \n",
    "                state = env.reset()\n",
    "                current_ep_reward = 0\n",
    "                score = 0        \n",
    "        \n",
    "                for t in range(1,cfg.max_ep_len+1):        \n",
    "                        # sum_eval_reward =0\n",
    "                        action = agent.select_action(state)\n",
    "                        next_state, reward, done, _ = env.step(action)\n",
    "                        agent.buffer.rewards.append(reward)\n",
    "                        agent.buffer.is_terminals.append(done)                        \n",
    "                        time_step += 1        \n",
    "                        state = next_state\n",
    "                        current_ep_reward += reward\n",
    "                        score += reward\n",
    "\n",
    "                        if time_step % cfg.update_timestep == 0:                       \n",
    "                                agent.update()\n",
    "                                print('\\n ---------------- \\n')\n",
    "                        if time_step % cfg.print_freq == 0:\n",
    "                                print_avg_reward = print_running_reward / (print_running_episodes+0.000000000001)\n",
    "                                print_avg_reward = round(print_avg_reward, 2)\n",
    "                                avg_print_score.append(print_avg_reward)\n",
    "                                print(\"\\nIsEpisode : {} \\t\\t Timestep : {} \\t\\t Average Reward : {}\".format(i_episode, time_step, print_avg_reward))\n",
    "                                print_running_reward = 0\n",
    "                                print_running_episodes = 0\n",
    "                        # save model                      \n",
    "                        if done:\n",
    "                                break\n",
    "                if i_episode % cfg.save_model_freq == 0:\n",
    "                        model_name = f\"PPO_adreward_{i_episode}.pth\"\n",
    "                        torch.save(agent.policy_old.state_dict(), (p_model /model_name))\n",
    "                        file_name = f\"PPO4_reshape_{i_episode}\"\n",
    "                        score_save(scores, averagescore=avg_scores, file_name=file_name, path=p_model, print_=False)\n",
    "                scores_deque.append(score)\n",
    "                scores.append(score)\n",
    "                avg_scores.append(np.mean(scores_deque))\n",
    "                print_running_reward += current_ep_reward\n",
    "                print_running_episodes += 1\n",
    "                i_episode += 1\n",
    "        return i_episode, scores, avg_scores, avg_print_score, agent"
   ]
  },
  {
   "cell_type": "code",
   "execution_count": 7,
   "metadata": {},
   "outputs": [
    {
     "name": "stderr",
     "output_type": "stream",
     "text": [
      "c:\\Users\\lynch\\anaconda3\\envs\\DQN_win\\lib\\site-packages\\pyglet\\image\\codecs\\wic.py:406: UserWarning: [WinError -2147417850] Cannot change thread mode after it is set\n",
      "  warnings.warn(str(err))\n"
     ]
    },
    {
     "name": "stdout",
     "output_type": "stream",
     "text": [
      "\n",
      "IsEpisode : 1 \t\t Timestep : 500 \t\t Average Reward : -597.7\n",
      "\n",
      "IsEpisode : 2 \t\t Timestep : 1000 \t\t Average Reward : 85.0\n",
      "\n",
      "IsEpisode : 4 \t\t Timestep : 1500 \t\t Average Reward : 26.15\n",
      "\n",
      " ---------------- \n",
      "\n",
      "\n",
      "IsEpisode : 6 \t\t Timestep : 2000 \t\t Average Reward : -314.07\n",
      "\n",
      "IsEpisode : 7 \t\t Timestep : 2500 \t\t Average Reward : -26.55\n",
      "\n",
      "IsEpisode : 9 \t\t Timestep : 3000 \t\t Average Reward : -238.0\n",
      "Total training time: 00:00:41.76\n"
     ]
    }
   ],
   "source": [
    "start = time.time()\n",
    "i_episode, scores, avg_scores, avg_print_score, agent = PPO_train()\n",
    "final_model = f\"PPO_adreward_{i_episode}.pth\"                        # save the final iteration of model\n",
    "torch.save(agent.policy_old.state_dict(), (p_model /final_model))\n",
    "end = time.time()\n",
    "\n",
    "hours, rem = divmod(end-start, 3600)\n",
    "minutes, seconds = divmod(rem, 60)\n",
    "print(\"Total training time: {:0>2}:{:0>2}:{:05.2f}\".format(int(hours),int(minutes),seconds))\n",
    "\n",
    "if p_model.is_dir():\n",
    "    nb_name = 'Run_log.txt'\n",
    "    with open(p_model.joinpath(nb_name), \"w\") as f:\n",
    "        f.write(\"Total training time: {:0>2}:{:0>2}:{:05.2f}\\n\".format(int(hours),int(minutes),seconds))\n",
    "        f.write('Toal epoch:%s\\n'%i_episode)\n",
    "        f.write('Csv file name:%s\\n'%file_name)\n",
    "        f.close()\n"
   ]
  },
  {
   "attachments": {},
   "cell_type": "markdown",
   "metadata": {},
   "source": [
    "# Plot training result"
   ]
  },
  {
   "cell_type": "code",
   "execution_count": 8,
   "metadata": {},
   "outputs": [
    {
     "data": {
      "image/png": "[encoded data removed]",
      "text/plain": [
       "<Figure size 640x480 with 1 Axes>"
      ]
     },
     "metadata": {},
     "output_type": "display_data"
    }
   ],
   "source": [
    "image_name = f'PPO_av{i_episode-1}.png'\n",
    "fig = plt.figure()\n",
    "ax = fig.add_subplot(111)\n",
    "plt.plot(np.arange(1, len(avg_scores)+1), avg_scores, label=\"Average score of the episode\")\n",
    "plt.plot(np.arange(1, len(scores)+1), scores, label=\"Score of the episode\")\n",
    "plt.legend()\n",
    "plt.ylabel('Score')\n",
    "plt.xlabel(f'Training Episode')\n",
    "ax.xaxis.set_major_locator(MaxNLocator(integer=True))\n",
    "plt.grid()\n",
    "# plt.savefig((p_model/image_name))\n",
    "plt.show()\n"
   ]
  }
 ],
 "metadata": {
  "kernelspec": {
   "display_name": "DQN_win",
   "language": "python",
   "name": "python3"
  },
  "language_info": {
   "codemirror_mode": {
    "name": "ipython",
    "version": 3
   },
   "file_extension": ".py",
   "mimetype": "text/x-python",
   "name": "python",
   "nbconvert_exporter": "python",
   "pygments_lexer": "ipython3",
   "version": "3.8.15"
  },
  "orig_nbformat": 4
 },
 "nbformat": 4,
 "nbformat_minor": 2
}
